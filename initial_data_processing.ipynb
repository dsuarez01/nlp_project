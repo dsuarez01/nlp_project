{
  "nbformat": 4,
  "nbformat_minor": 0,
  "metadata": {
    "colab": {
      "provenance": []
    },
    "kernelspec": {
      "name": "python3",
      "display_name": "Python 3"
    },
    "language_info": {
      "name": "python"
    },
    "widgets": {
      "application/vnd.jupyter.widget-state+json": {
        "31a5d301067f4d87bede8e220650fed7": {
          "model_module": "@jupyter-widgets/controls",
          "model_name": "HBoxModel",
          "model_module_version": "1.5.0",
          "state": {
            "_dom_classes": [],
            "_model_module": "@jupyter-widgets/controls",
            "_model_module_version": "1.5.0",
            "_model_name": "HBoxModel",
            "_view_count": null,
            "_view_module": "@jupyter-widgets/controls",
            "_view_module_version": "1.5.0",
            "_view_name": "HBoxView",
            "box_style": "",
            "children": [
              "IPY_MODEL_4cfc0ba044aa4da2940dacb7498ede43",
              "IPY_MODEL_fd62e535895140fb9ca1b554bb991295",
              "IPY_MODEL_ee208b28206647d4818731facab319ef"
            ],
            "layout": "IPY_MODEL_a3a0b8ffd58540a1a409c1ae1cdfc324"
          }
        },
        "4cfc0ba044aa4da2940dacb7498ede43": {
          "model_module": "@jupyter-widgets/controls",
          "model_name": "HTMLModel",
          "model_module_version": "1.5.0",
          "state": {
            "_dom_classes": [],
            "_model_module": "@jupyter-widgets/controls",
            "_model_module_version": "1.5.0",
            "_model_name": "HTMLModel",
            "_view_count": null,
            "_view_module": "@jupyter-widgets/controls",
            "_view_module_version": "1.5.0",
            "_view_name": "HTMLView",
            "description": "",
            "description_tooltip": null,
            "layout": "IPY_MODEL_1a20cb8ae630489cb23825e8a224f4d7",
            "placeholder": "​",
            "style": "IPY_MODEL_7ee867304cde46a4aa5ba865fb18d93d",
            "value": "tokenizer_config.json: 100%"
          }
        },
        "fd62e535895140fb9ca1b554bb991295": {
          "model_module": "@jupyter-widgets/controls",
          "model_name": "FloatProgressModel",
          "model_module_version": "1.5.0",
          "state": {
            "_dom_classes": [],
            "_model_module": "@jupyter-widgets/controls",
            "_model_module_version": "1.5.0",
            "_model_name": "FloatProgressModel",
            "_view_count": null,
            "_view_module": "@jupyter-widgets/controls",
            "_view_module_version": "1.5.0",
            "_view_name": "ProgressView",
            "bar_style": "success",
            "description": "",
            "description_tooltip": null,
            "layout": "IPY_MODEL_dcde31ffa23849fc94c4155d70500233",
            "max": 48,
            "min": 0,
            "orientation": "horizontal",
            "style": "IPY_MODEL_643c379488de49a484c1eea5b5fa3f19",
            "value": 48
          }
        },
        "ee208b28206647d4818731facab319ef": {
          "model_module": "@jupyter-widgets/controls",
          "model_name": "HTMLModel",
          "model_module_version": "1.5.0",
          "state": {
            "_dom_classes": [],
            "_model_module": "@jupyter-widgets/controls",
            "_model_module_version": "1.5.0",
            "_model_name": "HTMLModel",
            "_view_count": null,
            "_view_module": "@jupyter-widgets/controls",
            "_view_module_version": "1.5.0",
            "_view_name": "HTMLView",
            "description": "",
            "description_tooltip": null,
            "layout": "IPY_MODEL_8b06d9228e484aaaa34814ab74787b29",
            "placeholder": "​",
            "style": "IPY_MODEL_2a9e6bc3af0c4711bc69a4269194834b",
            "value": " 48.0/48.0 [00:00&lt;00:00, 1.52kB/s]"
          }
        },
        "a3a0b8ffd58540a1a409c1ae1cdfc324": {
          "model_module": "@jupyter-widgets/base",
          "model_name": "LayoutModel",
          "model_module_version": "1.2.0",
          "state": {
            "_model_module": "@jupyter-widgets/base",
            "_model_module_version": "1.2.0",
            "_model_name": "LayoutModel",
            "_view_count": null,
            "_view_module": "@jupyter-widgets/base",
            "_view_module_version": "1.2.0",
            "_view_name": "LayoutView",
            "align_content": null,
            "align_items": null,
            "align_self": null,
            "border": null,
            "bottom": null,
            "display": null,
            "flex": null,
            "flex_flow": null,
            "grid_area": null,
            "grid_auto_columns": null,
            "grid_auto_flow": null,
            "grid_auto_rows": null,
            "grid_column": null,
            "grid_gap": null,
            "grid_row": null,
            "grid_template_areas": null,
            "grid_template_columns": null,
            "grid_template_rows": null,
            "height": null,
            "justify_content": null,
            "justify_items": null,
            "left": null,
            "margin": null,
            "max_height": null,
            "max_width": null,
            "min_height": null,
            "min_width": null,
            "object_fit": null,
            "object_position": null,
            "order": null,
            "overflow": null,
            "overflow_x": null,
            "overflow_y": null,
            "padding": null,
            "right": null,
            "top": null,
            "visibility": null,
            "width": null
          }
        },
        "1a20cb8ae630489cb23825e8a224f4d7": {
          "model_module": "@jupyter-widgets/base",
          "model_name": "LayoutModel",
          "model_module_version": "1.2.0",
          "state": {
            "_model_module": "@jupyter-widgets/base",
            "_model_module_version": "1.2.0",
            "_model_name": "LayoutModel",
            "_view_count": null,
            "_view_module": "@jupyter-widgets/base",
            "_view_module_version": "1.2.0",
            "_view_name": "LayoutView",
            "align_content": null,
            "align_items": null,
            "align_self": null,
            "border": null,
            "bottom": null,
            "display": null,
            "flex": null,
            "flex_flow": null,
            "grid_area": null,
            "grid_auto_columns": null,
            "grid_auto_flow": null,
            "grid_auto_rows": null,
            "grid_column": null,
            "grid_gap": null,
            "grid_row": null,
            "grid_template_areas": null,
            "grid_template_columns": null,
            "grid_template_rows": null,
            "height": null,
            "justify_content": null,
            "justify_items": null,
            "left": null,
            "margin": null,
            "max_height": null,
            "max_width": null,
            "min_height": null,
            "min_width": null,
            "object_fit": null,
            "object_position": null,
            "order": null,
            "overflow": null,
            "overflow_x": null,
            "overflow_y": null,
            "padding": null,
            "right": null,
            "top": null,
            "visibility": null,
            "width": null
          }
        },
        "7ee867304cde46a4aa5ba865fb18d93d": {
          "model_module": "@jupyter-widgets/controls",
          "model_name": "DescriptionStyleModel",
          "model_module_version": "1.5.0",
          "state": {
            "_model_module": "@jupyter-widgets/controls",
            "_model_module_version": "1.5.0",
            "_model_name": "DescriptionStyleModel",
            "_view_count": null,
            "_view_module": "@jupyter-widgets/base",
            "_view_module_version": "1.2.0",
            "_view_name": "StyleView",
            "description_width": ""
          }
        },
        "dcde31ffa23849fc94c4155d70500233": {
          "model_module": "@jupyter-widgets/base",
          "model_name": "LayoutModel",
          "model_module_version": "1.2.0",
          "state": {
            "_model_module": "@jupyter-widgets/base",
            "_model_module_version": "1.2.0",
            "_model_name": "LayoutModel",
            "_view_count": null,
            "_view_module": "@jupyter-widgets/base",
            "_view_module_version": "1.2.0",
            "_view_name": "LayoutView",
            "align_content": null,
            "align_items": null,
            "align_self": null,
            "border": null,
            "bottom": null,
            "display": null,
            "flex": null,
            "flex_flow": null,
            "grid_area": null,
            "grid_auto_columns": null,
            "grid_auto_flow": null,
            "grid_auto_rows": null,
            "grid_column": null,
            "grid_gap": null,
            "grid_row": null,
            "grid_template_areas": null,
            "grid_template_columns": null,
            "grid_template_rows": null,
            "height": null,
            "justify_content": null,
            "justify_items": null,
            "left": null,
            "margin": null,
            "max_height": null,
            "max_width": null,
            "min_height": null,
            "min_width": null,
            "object_fit": null,
            "object_position": null,
            "order": null,
            "overflow": null,
            "overflow_x": null,
            "overflow_y": null,
            "padding": null,
            "right": null,
            "top": null,
            "visibility": null,
            "width": null
          }
        },
        "643c379488de49a484c1eea5b5fa3f19": {
          "model_module": "@jupyter-widgets/controls",
          "model_name": "ProgressStyleModel",
          "model_module_version": "1.5.0",
          "state": {
            "_model_module": "@jupyter-widgets/controls",
            "_model_module_version": "1.5.0",
            "_model_name": "ProgressStyleModel",
            "_view_count": null,
            "_view_module": "@jupyter-widgets/base",
            "_view_module_version": "1.2.0",
            "_view_name": "StyleView",
            "bar_color": null,
            "description_width": ""
          }
        },
        "8b06d9228e484aaaa34814ab74787b29": {
          "model_module": "@jupyter-widgets/base",
          "model_name": "LayoutModel",
          "model_module_version": "1.2.0",
          "state": {
            "_model_module": "@jupyter-widgets/base",
            "_model_module_version": "1.2.0",
            "_model_name": "LayoutModel",
            "_view_count": null,
            "_view_module": "@jupyter-widgets/base",
            "_view_module_version": "1.2.0",
            "_view_name": "LayoutView",
            "align_content": null,
            "align_items": null,
            "align_self": null,
            "border": null,
            "bottom": null,
            "display": null,
            "flex": null,
            "flex_flow": null,
            "grid_area": null,
            "grid_auto_columns": null,
            "grid_auto_flow": null,
            "grid_auto_rows": null,
            "grid_column": null,
            "grid_gap": null,
            "grid_row": null,
            "grid_template_areas": null,
            "grid_template_columns": null,
            "grid_template_rows": null,
            "height": null,
            "justify_content": null,
            "justify_items": null,
            "left": null,
            "margin": null,
            "max_height": null,
            "max_width": null,
            "min_height": null,
            "min_width": null,
            "object_fit": null,
            "object_position": null,
            "order": null,
            "overflow": null,
            "overflow_x": null,
            "overflow_y": null,
            "padding": null,
            "right": null,
            "top": null,
            "visibility": null,
            "width": null
          }
        },
        "2a9e6bc3af0c4711bc69a4269194834b": {
          "model_module": "@jupyter-widgets/controls",
          "model_name": "DescriptionStyleModel",
          "model_module_version": "1.5.0",
          "state": {
            "_model_module": "@jupyter-widgets/controls",
            "_model_module_version": "1.5.0",
            "_model_name": "DescriptionStyleModel",
            "_view_count": null,
            "_view_module": "@jupyter-widgets/base",
            "_view_module_version": "1.2.0",
            "_view_name": "StyleView",
            "description_width": ""
          }
        },
        "a6cb63ea777e4aaa8701b05e0f57183e": {
          "model_module": "@jupyter-widgets/controls",
          "model_name": "HBoxModel",
          "model_module_version": "1.5.0",
          "state": {
            "_dom_classes": [],
            "_model_module": "@jupyter-widgets/controls",
            "_model_module_version": "1.5.0",
            "_model_name": "HBoxModel",
            "_view_count": null,
            "_view_module": "@jupyter-widgets/controls",
            "_view_module_version": "1.5.0",
            "_view_name": "HBoxView",
            "box_style": "",
            "children": [
              "IPY_MODEL_3ef748d830d34d708807d4b10bf959e8",
              "IPY_MODEL_50b28dc2c30e41c383e6c8c6cbb069b4",
              "IPY_MODEL_b957ace5e28f4d87937b7e8fd4af5a94"
            ],
            "layout": "IPY_MODEL_041ce957146d4234a695f75936978c91"
          }
        },
        "3ef748d830d34d708807d4b10bf959e8": {
          "model_module": "@jupyter-widgets/controls",
          "model_name": "HTMLModel",
          "model_module_version": "1.5.0",
          "state": {
            "_dom_classes": [],
            "_model_module": "@jupyter-widgets/controls",
            "_model_module_version": "1.5.0",
            "_model_name": "HTMLModel",
            "_view_count": null,
            "_view_module": "@jupyter-widgets/controls",
            "_view_module_version": "1.5.0",
            "_view_name": "HTMLView",
            "description": "",
            "description_tooltip": null,
            "layout": "IPY_MODEL_d4a6a9736bbe411990680bf541a84e40",
            "placeholder": "​",
            "style": "IPY_MODEL_d7bb1cea61fb4bdcb97216bf4e9f5a7e",
            "value": "vocab.txt: 100%"
          }
        },
        "50b28dc2c30e41c383e6c8c6cbb069b4": {
          "model_module": "@jupyter-widgets/controls",
          "model_name": "FloatProgressModel",
          "model_module_version": "1.5.0",
          "state": {
            "_dom_classes": [],
            "_model_module": "@jupyter-widgets/controls",
            "_model_module_version": "1.5.0",
            "_model_name": "FloatProgressModel",
            "_view_count": null,
            "_view_module": "@jupyter-widgets/controls",
            "_view_module_version": "1.5.0",
            "_view_name": "ProgressView",
            "bar_style": "success",
            "description": "",
            "description_tooltip": null,
            "layout": "IPY_MODEL_141e35f2de6f4c399aef774274076a65",
            "max": 231508,
            "min": 0,
            "orientation": "horizontal",
            "style": "IPY_MODEL_277f4afab3574b96945086903a95e895",
            "value": 231508
          }
        },
        "b957ace5e28f4d87937b7e8fd4af5a94": {
          "model_module": "@jupyter-widgets/controls",
          "model_name": "HTMLModel",
          "model_module_version": "1.5.0",
          "state": {
            "_dom_classes": [],
            "_model_module": "@jupyter-widgets/controls",
            "_model_module_version": "1.5.0",
            "_model_name": "HTMLModel",
            "_view_count": null,
            "_view_module": "@jupyter-widgets/controls",
            "_view_module_version": "1.5.0",
            "_view_name": "HTMLView",
            "description": "",
            "description_tooltip": null,
            "layout": "IPY_MODEL_16d460c5ea6340efae89045d47818d31",
            "placeholder": "​",
            "style": "IPY_MODEL_27036cd8e5734b5a9f9c7ab06080a740",
            "value": " 232k/232k [00:00&lt;00:00, 4.18MB/s]"
          }
        },
        "041ce957146d4234a695f75936978c91": {
          "model_module": "@jupyter-widgets/base",
          "model_name": "LayoutModel",
          "model_module_version": "1.2.0",
          "state": {
            "_model_module": "@jupyter-widgets/base",
            "_model_module_version": "1.2.0",
            "_model_name": "LayoutModel",
            "_view_count": null,
            "_view_module": "@jupyter-widgets/base",
            "_view_module_version": "1.2.0",
            "_view_name": "LayoutView",
            "align_content": null,
            "align_items": null,
            "align_self": null,
            "border": null,
            "bottom": null,
            "display": null,
            "flex": null,
            "flex_flow": null,
            "grid_area": null,
            "grid_auto_columns": null,
            "grid_auto_flow": null,
            "grid_auto_rows": null,
            "grid_column": null,
            "grid_gap": null,
            "grid_row": null,
            "grid_template_areas": null,
            "grid_template_columns": null,
            "grid_template_rows": null,
            "height": null,
            "justify_content": null,
            "justify_items": null,
            "left": null,
            "margin": null,
            "max_height": null,
            "max_width": null,
            "min_height": null,
            "min_width": null,
            "object_fit": null,
            "object_position": null,
            "order": null,
            "overflow": null,
            "overflow_x": null,
            "overflow_y": null,
            "padding": null,
            "right": null,
            "top": null,
            "visibility": null,
            "width": null
          }
        },
        "d4a6a9736bbe411990680bf541a84e40": {
          "model_module": "@jupyter-widgets/base",
          "model_name": "LayoutModel",
          "model_module_version": "1.2.0",
          "state": {
            "_model_module": "@jupyter-widgets/base",
            "_model_module_version": "1.2.0",
            "_model_name": "LayoutModel",
            "_view_count": null,
            "_view_module": "@jupyter-widgets/base",
            "_view_module_version": "1.2.0",
            "_view_name": "LayoutView",
            "align_content": null,
            "align_items": null,
            "align_self": null,
            "border": null,
            "bottom": null,
            "display": null,
            "flex": null,
            "flex_flow": null,
            "grid_area": null,
            "grid_auto_columns": null,
            "grid_auto_flow": null,
            "grid_auto_rows": null,
            "grid_column": null,
            "grid_gap": null,
            "grid_row": null,
            "grid_template_areas": null,
            "grid_template_columns": null,
            "grid_template_rows": null,
            "height": null,
            "justify_content": null,
            "justify_items": null,
            "left": null,
            "margin": null,
            "max_height": null,
            "max_width": null,
            "min_height": null,
            "min_width": null,
            "object_fit": null,
            "object_position": null,
            "order": null,
            "overflow": null,
            "overflow_x": null,
            "overflow_y": null,
            "padding": null,
            "right": null,
            "top": null,
            "visibility": null,
            "width": null
          }
        },
        "d7bb1cea61fb4bdcb97216bf4e9f5a7e": {
          "model_module": "@jupyter-widgets/controls",
          "model_name": "DescriptionStyleModel",
          "model_module_version": "1.5.0",
          "state": {
            "_model_module": "@jupyter-widgets/controls",
            "_model_module_version": "1.5.0",
            "_model_name": "DescriptionStyleModel",
            "_view_count": null,
            "_view_module": "@jupyter-widgets/base",
            "_view_module_version": "1.2.0",
            "_view_name": "StyleView",
            "description_width": ""
          }
        },
        "141e35f2de6f4c399aef774274076a65": {
          "model_module": "@jupyter-widgets/base",
          "model_name": "LayoutModel",
          "model_module_version": "1.2.0",
          "state": {
            "_model_module": "@jupyter-widgets/base",
            "_model_module_version": "1.2.0",
            "_model_name": "LayoutModel",
            "_view_count": null,
            "_view_module": "@jupyter-widgets/base",
            "_view_module_version": "1.2.0",
            "_view_name": "LayoutView",
            "align_content": null,
            "align_items": null,
            "align_self": null,
            "border": null,
            "bottom": null,
            "display": null,
            "flex": null,
            "flex_flow": null,
            "grid_area": null,
            "grid_auto_columns": null,
            "grid_auto_flow": null,
            "grid_auto_rows": null,
            "grid_column": null,
            "grid_gap": null,
            "grid_row": null,
            "grid_template_areas": null,
            "grid_template_columns": null,
            "grid_template_rows": null,
            "height": null,
            "justify_content": null,
            "justify_items": null,
            "left": null,
            "margin": null,
            "max_height": null,
            "max_width": null,
            "min_height": null,
            "min_width": null,
            "object_fit": null,
            "object_position": null,
            "order": null,
            "overflow": null,
            "overflow_x": null,
            "overflow_y": null,
            "padding": null,
            "right": null,
            "top": null,
            "visibility": null,
            "width": null
          }
        },
        "277f4afab3574b96945086903a95e895": {
          "model_module": "@jupyter-widgets/controls",
          "model_name": "ProgressStyleModel",
          "model_module_version": "1.5.0",
          "state": {
            "_model_module": "@jupyter-widgets/controls",
            "_model_module_version": "1.5.0",
            "_model_name": "ProgressStyleModel",
            "_view_count": null,
            "_view_module": "@jupyter-widgets/base",
            "_view_module_version": "1.2.0",
            "_view_name": "StyleView",
            "bar_color": null,
            "description_width": ""
          }
        },
        "16d460c5ea6340efae89045d47818d31": {
          "model_module": "@jupyter-widgets/base",
          "model_name": "LayoutModel",
          "model_module_version": "1.2.0",
          "state": {
            "_model_module": "@jupyter-widgets/base",
            "_model_module_version": "1.2.0",
            "_model_name": "LayoutModel",
            "_view_count": null,
            "_view_module": "@jupyter-widgets/base",
            "_view_module_version": "1.2.0",
            "_view_name": "LayoutView",
            "align_content": null,
            "align_items": null,
            "align_self": null,
            "border": null,
            "bottom": null,
            "display": null,
            "flex": null,
            "flex_flow": null,
            "grid_area": null,
            "grid_auto_columns": null,
            "grid_auto_flow": null,
            "grid_auto_rows": null,
            "grid_column": null,
            "grid_gap": null,
            "grid_row": null,
            "grid_template_areas": null,
            "grid_template_columns": null,
            "grid_template_rows": null,
            "height": null,
            "justify_content": null,
            "justify_items": null,
            "left": null,
            "margin": null,
            "max_height": null,
            "max_width": null,
            "min_height": null,
            "min_width": null,
            "object_fit": null,
            "object_position": null,
            "order": null,
            "overflow": null,
            "overflow_x": null,
            "overflow_y": null,
            "padding": null,
            "right": null,
            "top": null,
            "visibility": null,
            "width": null
          }
        },
        "27036cd8e5734b5a9f9c7ab06080a740": {
          "model_module": "@jupyter-widgets/controls",
          "model_name": "DescriptionStyleModel",
          "model_module_version": "1.5.0",
          "state": {
            "_model_module": "@jupyter-widgets/controls",
            "_model_module_version": "1.5.0",
            "_model_name": "DescriptionStyleModel",
            "_view_count": null,
            "_view_module": "@jupyter-widgets/base",
            "_view_module_version": "1.2.0",
            "_view_name": "StyleView",
            "description_width": ""
          }
        },
        "73ab0a4eee8644a8a7de66ad20254306": {
          "model_module": "@jupyter-widgets/controls",
          "model_name": "HBoxModel",
          "model_module_version": "1.5.0",
          "state": {
            "_dom_classes": [],
            "_model_module": "@jupyter-widgets/controls",
            "_model_module_version": "1.5.0",
            "_model_name": "HBoxModel",
            "_view_count": null,
            "_view_module": "@jupyter-widgets/controls",
            "_view_module_version": "1.5.0",
            "_view_name": "HBoxView",
            "box_style": "",
            "children": [
              "IPY_MODEL_738e59393c274e4abb2d930be8185fd0",
              "IPY_MODEL_135872561d0344f295d3072860712d94",
              "IPY_MODEL_a99e699b746d42a395b8db4ca3e67762"
            ],
            "layout": "IPY_MODEL_afacb6e5eb4b4e8ba509896fc2bca5c6"
          }
        },
        "738e59393c274e4abb2d930be8185fd0": {
          "model_module": "@jupyter-widgets/controls",
          "model_name": "HTMLModel",
          "model_module_version": "1.5.0",
          "state": {
            "_dom_classes": [],
            "_model_module": "@jupyter-widgets/controls",
            "_model_module_version": "1.5.0",
            "_model_name": "HTMLModel",
            "_view_count": null,
            "_view_module": "@jupyter-widgets/controls",
            "_view_module_version": "1.5.0",
            "_view_name": "HTMLView",
            "description": "",
            "description_tooltip": null,
            "layout": "IPY_MODEL_e7a02e9bf500465497d7013900b90686",
            "placeholder": "​",
            "style": "IPY_MODEL_c17e78e45f584464acc012590a8c6f4f",
            "value": "tokenizer.json: 100%"
          }
        },
        "135872561d0344f295d3072860712d94": {
          "model_module": "@jupyter-widgets/controls",
          "model_name": "FloatProgressModel",
          "model_module_version": "1.5.0",
          "state": {
            "_dom_classes": [],
            "_model_module": "@jupyter-widgets/controls",
            "_model_module_version": "1.5.0",
            "_model_name": "FloatProgressModel",
            "_view_count": null,
            "_view_module": "@jupyter-widgets/controls",
            "_view_module_version": "1.5.0",
            "_view_name": "ProgressView",
            "bar_style": "success",
            "description": "",
            "description_tooltip": null,
            "layout": "IPY_MODEL_8e465215684a4fb3ab3e30e7201cd420",
            "max": 466062,
            "min": 0,
            "orientation": "horizontal",
            "style": "IPY_MODEL_2089060e811e47298f0d9b2eca87a5e1",
            "value": 466062
          }
        },
        "a99e699b746d42a395b8db4ca3e67762": {
          "model_module": "@jupyter-widgets/controls",
          "model_name": "HTMLModel",
          "model_module_version": "1.5.0",
          "state": {
            "_dom_classes": [],
            "_model_module": "@jupyter-widgets/controls",
            "_model_module_version": "1.5.0",
            "_model_name": "HTMLModel",
            "_view_count": null,
            "_view_module": "@jupyter-widgets/controls",
            "_view_module_version": "1.5.0",
            "_view_name": "HTMLView",
            "description": "",
            "description_tooltip": null,
            "layout": "IPY_MODEL_00860210443e4eeab63b41bdadd9afa6",
            "placeholder": "​",
            "style": "IPY_MODEL_cd1ba0610106422587e516cbba5d9fdb",
            "value": " 466k/466k [00:00&lt;00:00, 16.1MB/s]"
          }
        },
        "afacb6e5eb4b4e8ba509896fc2bca5c6": {
          "model_module": "@jupyter-widgets/base",
          "model_name": "LayoutModel",
          "model_module_version": "1.2.0",
          "state": {
            "_model_module": "@jupyter-widgets/base",
            "_model_module_version": "1.2.0",
            "_model_name": "LayoutModel",
            "_view_count": null,
            "_view_module": "@jupyter-widgets/base",
            "_view_module_version": "1.2.0",
            "_view_name": "LayoutView",
            "align_content": null,
            "align_items": null,
            "align_self": null,
            "border": null,
            "bottom": null,
            "display": null,
            "flex": null,
            "flex_flow": null,
            "grid_area": null,
            "grid_auto_columns": null,
            "grid_auto_flow": null,
            "grid_auto_rows": null,
            "grid_column": null,
            "grid_gap": null,
            "grid_row": null,
            "grid_template_areas": null,
            "grid_template_columns": null,
            "grid_template_rows": null,
            "height": null,
            "justify_content": null,
            "justify_items": null,
            "left": null,
            "margin": null,
            "max_height": null,
            "max_width": null,
            "min_height": null,
            "min_width": null,
            "object_fit": null,
            "object_position": null,
            "order": null,
            "overflow": null,
            "overflow_x": null,
            "overflow_y": null,
            "padding": null,
            "right": null,
            "top": null,
            "visibility": null,
            "width": null
          }
        },
        "e7a02e9bf500465497d7013900b90686": {
          "model_module": "@jupyter-widgets/base",
          "model_name": "LayoutModel",
          "model_module_version": "1.2.0",
          "state": {
            "_model_module": "@jupyter-widgets/base",
            "_model_module_version": "1.2.0",
            "_model_name": "LayoutModel",
            "_view_count": null,
            "_view_module": "@jupyter-widgets/base",
            "_view_module_version": "1.2.0",
            "_view_name": "LayoutView",
            "align_content": null,
            "align_items": null,
            "align_self": null,
            "border": null,
            "bottom": null,
            "display": null,
            "flex": null,
            "flex_flow": null,
            "grid_area": null,
            "grid_auto_columns": null,
            "grid_auto_flow": null,
            "grid_auto_rows": null,
            "grid_column": null,
            "grid_gap": null,
            "grid_row": null,
            "grid_template_areas": null,
            "grid_template_columns": null,
            "grid_template_rows": null,
            "height": null,
            "justify_content": null,
            "justify_items": null,
            "left": null,
            "margin": null,
            "max_height": null,
            "max_width": null,
            "min_height": null,
            "min_width": null,
            "object_fit": null,
            "object_position": null,
            "order": null,
            "overflow": null,
            "overflow_x": null,
            "overflow_y": null,
            "padding": null,
            "right": null,
            "top": null,
            "visibility": null,
            "width": null
          }
        },
        "c17e78e45f584464acc012590a8c6f4f": {
          "model_module": "@jupyter-widgets/controls",
          "model_name": "DescriptionStyleModel",
          "model_module_version": "1.5.0",
          "state": {
            "_model_module": "@jupyter-widgets/controls",
            "_model_module_version": "1.5.0",
            "_model_name": "DescriptionStyleModel",
            "_view_count": null,
            "_view_module": "@jupyter-widgets/base",
            "_view_module_version": "1.2.0",
            "_view_name": "StyleView",
            "description_width": ""
          }
        },
        "8e465215684a4fb3ab3e30e7201cd420": {
          "model_module": "@jupyter-widgets/base",
          "model_name": "LayoutModel",
          "model_module_version": "1.2.0",
          "state": {
            "_model_module": "@jupyter-widgets/base",
            "_model_module_version": "1.2.0",
            "_model_name": "LayoutModel",
            "_view_count": null,
            "_view_module": "@jupyter-widgets/base",
            "_view_module_version": "1.2.0",
            "_view_name": "LayoutView",
            "align_content": null,
            "align_items": null,
            "align_self": null,
            "border": null,
            "bottom": null,
            "display": null,
            "flex": null,
            "flex_flow": null,
            "grid_area": null,
            "grid_auto_columns": null,
            "grid_auto_flow": null,
            "grid_auto_rows": null,
            "grid_column": null,
            "grid_gap": null,
            "grid_row": null,
            "grid_template_areas": null,
            "grid_template_columns": null,
            "grid_template_rows": null,
            "height": null,
            "justify_content": null,
            "justify_items": null,
            "left": null,
            "margin": null,
            "max_height": null,
            "max_width": null,
            "min_height": null,
            "min_width": null,
            "object_fit": null,
            "object_position": null,
            "order": null,
            "overflow": null,
            "overflow_x": null,
            "overflow_y": null,
            "padding": null,
            "right": null,
            "top": null,
            "visibility": null,
            "width": null
          }
        },
        "2089060e811e47298f0d9b2eca87a5e1": {
          "model_module": "@jupyter-widgets/controls",
          "model_name": "ProgressStyleModel",
          "model_module_version": "1.5.0",
          "state": {
            "_model_module": "@jupyter-widgets/controls",
            "_model_module_version": "1.5.0",
            "_model_name": "ProgressStyleModel",
            "_view_count": null,
            "_view_module": "@jupyter-widgets/base",
            "_view_module_version": "1.2.0",
            "_view_name": "StyleView",
            "bar_color": null,
            "description_width": ""
          }
        },
        "00860210443e4eeab63b41bdadd9afa6": {
          "model_module": "@jupyter-widgets/base",
          "model_name": "LayoutModel",
          "model_module_version": "1.2.0",
          "state": {
            "_model_module": "@jupyter-widgets/base",
            "_model_module_version": "1.2.0",
            "_model_name": "LayoutModel",
            "_view_count": null,
            "_view_module": "@jupyter-widgets/base",
            "_view_module_version": "1.2.0",
            "_view_name": "LayoutView",
            "align_content": null,
            "align_items": null,
            "align_self": null,
            "border": null,
            "bottom": null,
            "display": null,
            "flex": null,
            "flex_flow": null,
            "grid_area": null,
            "grid_auto_columns": null,
            "grid_auto_flow": null,
            "grid_auto_rows": null,
            "grid_column": null,
            "grid_gap": null,
            "grid_row": null,
            "grid_template_areas": null,
            "grid_template_columns": null,
            "grid_template_rows": null,
            "height": null,
            "justify_content": null,
            "justify_items": null,
            "left": null,
            "margin": null,
            "max_height": null,
            "max_width": null,
            "min_height": null,
            "min_width": null,
            "object_fit": null,
            "object_position": null,
            "order": null,
            "overflow": null,
            "overflow_x": null,
            "overflow_y": null,
            "padding": null,
            "right": null,
            "top": null,
            "visibility": null,
            "width": null
          }
        },
        "cd1ba0610106422587e516cbba5d9fdb": {
          "model_module": "@jupyter-widgets/controls",
          "model_name": "DescriptionStyleModel",
          "model_module_version": "1.5.0",
          "state": {
            "_model_module": "@jupyter-widgets/controls",
            "_model_module_version": "1.5.0",
            "_model_name": "DescriptionStyleModel",
            "_view_count": null,
            "_view_module": "@jupyter-widgets/base",
            "_view_module_version": "1.2.0",
            "_view_name": "StyleView",
            "description_width": ""
          }
        },
        "844a0d19a729454ca89b90b6c70187fb": {
          "model_module": "@jupyter-widgets/controls",
          "model_name": "HBoxModel",
          "model_module_version": "1.5.0",
          "state": {
            "_dom_classes": [],
            "_model_module": "@jupyter-widgets/controls",
            "_model_module_version": "1.5.0",
            "_model_name": "HBoxModel",
            "_view_count": null,
            "_view_module": "@jupyter-widgets/controls",
            "_view_module_version": "1.5.0",
            "_view_name": "HBoxView",
            "box_style": "",
            "children": [
              "IPY_MODEL_3add00b18d7b4c538d8fe1eddc122d60",
              "IPY_MODEL_f4acd34b058d433b875bd1e918b7f1f9",
              "IPY_MODEL_dcc389e8f35f4a6d914e0ba2e03b53c5"
            ],
            "layout": "IPY_MODEL_52dd4b1a6c7f4936a9124db17300719e"
          }
        },
        "3add00b18d7b4c538d8fe1eddc122d60": {
          "model_module": "@jupyter-widgets/controls",
          "model_name": "HTMLModel",
          "model_module_version": "1.5.0",
          "state": {
            "_dom_classes": [],
            "_model_module": "@jupyter-widgets/controls",
            "_model_module_version": "1.5.0",
            "_model_name": "HTMLModel",
            "_view_count": null,
            "_view_module": "@jupyter-widgets/controls",
            "_view_module_version": "1.5.0",
            "_view_name": "HTMLView",
            "description": "",
            "description_tooltip": null,
            "layout": "IPY_MODEL_41b154855a054112867bf170a9b8ccbf",
            "placeholder": "​",
            "style": "IPY_MODEL_2e2c1929052249139c21eba9edaa1554",
            "value": "config.json: 100%"
          }
        },
        "f4acd34b058d433b875bd1e918b7f1f9": {
          "model_module": "@jupyter-widgets/controls",
          "model_name": "FloatProgressModel",
          "model_module_version": "1.5.0",
          "state": {
            "_dom_classes": [],
            "_model_module": "@jupyter-widgets/controls",
            "_model_module_version": "1.5.0",
            "_model_name": "FloatProgressModel",
            "_view_count": null,
            "_view_module": "@jupyter-widgets/controls",
            "_view_module_version": "1.5.0",
            "_view_name": "ProgressView",
            "bar_style": "success",
            "description": "",
            "description_tooltip": null,
            "layout": "IPY_MODEL_0a4a9f5d9efd443298b143da9c269a1c",
            "max": 570,
            "min": 0,
            "orientation": "horizontal",
            "style": "IPY_MODEL_d42ea7602d2543589d584d90a0edbd06",
            "value": 570
          }
        },
        "dcc389e8f35f4a6d914e0ba2e03b53c5": {
          "model_module": "@jupyter-widgets/controls",
          "model_name": "HTMLModel",
          "model_module_version": "1.5.0",
          "state": {
            "_dom_classes": [],
            "_model_module": "@jupyter-widgets/controls",
            "_model_module_version": "1.5.0",
            "_model_name": "HTMLModel",
            "_view_count": null,
            "_view_module": "@jupyter-widgets/controls",
            "_view_module_version": "1.5.0",
            "_view_name": "HTMLView",
            "description": "",
            "description_tooltip": null,
            "layout": "IPY_MODEL_830a964e7f244d78adc560978fb44922",
            "placeholder": "​",
            "style": "IPY_MODEL_841565efcf1a4fd69494619e8c3e4040",
            "value": " 570/570 [00:00&lt;00:00, 27.3kB/s]"
          }
        },
        "52dd4b1a6c7f4936a9124db17300719e": {
          "model_module": "@jupyter-widgets/base",
          "model_name": "LayoutModel",
          "model_module_version": "1.2.0",
          "state": {
            "_model_module": "@jupyter-widgets/base",
            "_model_module_version": "1.2.0",
            "_model_name": "LayoutModel",
            "_view_count": null,
            "_view_module": "@jupyter-widgets/base",
            "_view_module_version": "1.2.0",
            "_view_name": "LayoutView",
            "align_content": null,
            "align_items": null,
            "align_self": null,
            "border": null,
            "bottom": null,
            "display": null,
            "flex": null,
            "flex_flow": null,
            "grid_area": null,
            "grid_auto_columns": null,
            "grid_auto_flow": null,
            "grid_auto_rows": null,
            "grid_column": null,
            "grid_gap": null,
            "grid_row": null,
            "grid_template_areas": null,
            "grid_template_columns": null,
            "grid_template_rows": null,
            "height": null,
            "justify_content": null,
            "justify_items": null,
            "left": null,
            "margin": null,
            "max_height": null,
            "max_width": null,
            "min_height": null,
            "min_width": null,
            "object_fit": null,
            "object_position": null,
            "order": null,
            "overflow": null,
            "overflow_x": null,
            "overflow_y": null,
            "padding": null,
            "right": null,
            "top": null,
            "visibility": null,
            "width": null
          }
        },
        "41b154855a054112867bf170a9b8ccbf": {
          "model_module": "@jupyter-widgets/base",
          "model_name": "LayoutModel",
          "model_module_version": "1.2.0",
          "state": {
            "_model_module": "@jupyter-widgets/base",
            "_model_module_version": "1.2.0",
            "_model_name": "LayoutModel",
            "_view_count": null,
            "_view_module": "@jupyter-widgets/base",
            "_view_module_version": "1.2.0",
            "_view_name": "LayoutView",
            "align_content": null,
            "align_items": null,
            "align_self": null,
            "border": null,
            "bottom": null,
            "display": null,
            "flex": null,
            "flex_flow": null,
            "grid_area": null,
            "grid_auto_columns": null,
            "grid_auto_flow": null,
            "grid_auto_rows": null,
            "grid_column": null,
            "grid_gap": null,
            "grid_row": null,
            "grid_template_areas": null,
            "grid_template_columns": null,
            "grid_template_rows": null,
            "height": null,
            "justify_content": null,
            "justify_items": null,
            "left": null,
            "margin": null,
            "max_height": null,
            "max_width": null,
            "min_height": null,
            "min_width": null,
            "object_fit": null,
            "object_position": null,
            "order": null,
            "overflow": null,
            "overflow_x": null,
            "overflow_y": null,
            "padding": null,
            "right": null,
            "top": null,
            "visibility": null,
            "width": null
          }
        },
        "2e2c1929052249139c21eba9edaa1554": {
          "model_module": "@jupyter-widgets/controls",
          "model_name": "DescriptionStyleModel",
          "model_module_version": "1.5.0",
          "state": {
            "_model_module": "@jupyter-widgets/controls",
            "_model_module_version": "1.5.0",
            "_model_name": "DescriptionStyleModel",
            "_view_count": null,
            "_view_module": "@jupyter-widgets/base",
            "_view_module_version": "1.2.0",
            "_view_name": "StyleView",
            "description_width": ""
          }
        },
        "0a4a9f5d9efd443298b143da9c269a1c": {
          "model_module": "@jupyter-widgets/base",
          "model_name": "LayoutModel",
          "model_module_version": "1.2.0",
          "state": {
            "_model_module": "@jupyter-widgets/base",
            "_model_module_version": "1.2.0",
            "_model_name": "LayoutModel",
            "_view_count": null,
            "_view_module": "@jupyter-widgets/base",
            "_view_module_version": "1.2.0",
            "_view_name": "LayoutView",
            "align_content": null,
            "align_items": null,
            "align_self": null,
            "border": null,
            "bottom": null,
            "display": null,
            "flex": null,
            "flex_flow": null,
            "grid_area": null,
            "grid_auto_columns": null,
            "grid_auto_flow": null,
            "grid_auto_rows": null,
            "grid_column": null,
            "grid_gap": null,
            "grid_row": null,
            "grid_template_areas": null,
            "grid_template_columns": null,
            "grid_template_rows": null,
            "height": null,
            "justify_content": null,
            "justify_items": null,
            "left": null,
            "margin": null,
            "max_height": null,
            "max_width": null,
            "min_height": null,
            "min_width": null,
            "object_fit": null,
            "object_position": null,
            "order": null,
            "overflow": null,
            "overflow_x": null,
            "overflow_y": null,
            "padding": null,
            "right": null,
            "top": null,
            "visibility": null,
            "width": null
          }
        },
        "d42ea7602d2543589d584d90a0edbd06": {
          "model_module": "@jupyter-widgets/controls",
          "model_name": "ProgressStyleModel",
          "model_module_version": "1.5.0",
          "state": {
            "_model_module": "@jupyter-widgets/controls",
            "_model_module_version": "1.5.0",
            "_model_name": "ProgressStyleModel",
            "_view_count": null,
            "_view_module": "@jupyter-widgets/base",
            "_view_module_version": "1.2.0",
            "_view_name": "StyleView",
            "bar_color": null,
            "description_width": ""
          }
        },
        "830a964e7f244d78adc560978fb44922": {
          "model_module": "@jupyter-widgets/base",
          "model_name": "LayoutModel",
          "model_module_version": "1.2.0",
          "state": {
            "_model_module": "@jupyter-widgets/base",
            "_model_module_version": "1.2.0",
            "_model_name": "LayoutModel",
            "_view_count": null,
            "_view_module": "@jupyter-widgets/base",
            "_view_module_version": "1.2.0",
            "_view_name": "LayoutView",
            "align_content": null,
            "align_items": null,
            "align_self": null,
            "border": null,
            "bottom": null,
            "display": null,
            "flex": null,
            "flex_flow": null,
            "grid_area": null,
            "grid_auto_columns": null,
            "grid_auto_flow": null,
            "grid_auto_rows": null,
            "grid_column": null,
            "grid_gap": null,
            "grid_row": null,
            "grid_template_areas": null,
            "grid_template_columns": null,
            "grid_template_rows": null,
            "height": null,
            "justify_content": null,
            "justify_items": null,
            "left": null,
            "margin": null,
            "max_height": null,
            "max_width": null,
            "min_height": null,
            "min_width": null,
            "object_fit": null,
            "object_position": null,
            "order": null,
            "overflow": null,
            "overflow_x": null,
            "overflow_y": null,
            "padding": null,
            "right": null,
            "top": null,
            "visibility": null,
            "width": null
          }
        },
        "841565efcf1a4fd69494619e8c3e4040": {
          "model_module": "@jupyter-widgets/controls",
          "model_name": "DescriptionStyleModel",
          "model_module_version": "1.5.0",
          "state": {
            "_model_module": "@jupyter-widgets/controls",
            "_model_module_version": "1.5.0",
            "_model_name": "DescriptionStyleModel",
            "_view_count": null,
            "_view_module": "@jupyter-widgets/base",
            "_view_module_version": "1.2.0",
            "_view_name": "StyleView",
            "description_width": ""
          }
        }
      }
    }
  },
  "cells": [
    {
      "cell_type": "markdown",
      "source": [
        "DB: You shouldn't have to ever run this again. Results are stored in year_limited_songs.csv in the project google drive folder."
      ],
      "metadata": {
        "id": "KPIJevX5aGoB"
      }
    },
    {
      "cell_type": "code",
      "source": [
        "import os\n",
        "from google.colab import drive, files\n",
        "import pandas as pd\n",
        "import polars as pl\n",
        "\n",
        "drive.mount('/content/drive')"
      ],
      "metadata": {
        "id": "EQSr4y5WZAdU",
        "colab": {
          "base_uri": "https://localhost:8080/"
        },
        "outputId": "d9d19494-236b-497c-a2f3-e4e48edaf3f7"
      },
      "execution_count": null,
      "outputs": [
        {
          "output_type": "stream",
          "name": "stdout",
          "text": [
            "Mounted at /content/drive\n"
          ]
        }
      ]
    },
    {
      "cell_type": "code",
      "source": [
        "# %cd /content/drive/MyDrive/mit/2024-25 (senior year)/6.8611/6.8611 final project/genius_song_lyrics\n",
        "%cd /content/drive/MyDrive/6.8611 final project/genius_song_lyrics\n",
        "\n",
        "raw_data = pl.read_csv('./song_lyrics.csv', columns = ['title', 'tag', 'artist', 'year', 'lyrics', 'id', 'language'])\n",
        "print(raw_data.head())"
      ],
      "metadata": {
        "id": "7_42kYemmXt0",
        "colab": {
          "base_uri": "https://localhost:8080/"
        },
        "outputId": "1473af54-740a-4437-f178-9487dce0127e"
      },
      "execution_count": null,
      "outputs": [
        {
          "output_type": "stream",
          "name": "stdout",
          "text": [
            "/content/drive/.shortcut-targets-by-id/10KmyK1yEw0WioL8iUTO0ZpM7KwE7Ofnx/6.8611 final project/genius_song_lyrics\n",
            "shape: (5, 7)\n",
            "┌───────────────────┬─────┬───────────┬──────┬─────────────────────────────────┬─────┬──────────┐\n",
            "│ title             ┆ tag ┆ artist    ┆ year ┆ lyrics                          ┆ id  ┆ language │\n",
            "│ ---               ┆ --- ┆ ---       ┆ ---  ┆ ---                             ┆ --- ┆ ---      │\n",
            "│ str               ┆ str ┆ str       ┆ i64  ┆ str                             ┆ i64 ┆ str      │\n",
            "╞═══════════════════╪═════╪═══════════╪══════╪═════════════════════════════════╪═════╪══════════╡\n",
            "│ Killa Cam         ┆ rap ┆ Cam'ron   ┆ 2004 ┆ [Chorus: Opera Steve & Cam'ron… ┆ 1   ┆ en       │\n",
            "│ Can I Live        ┆ rap ┆ JAY-Z     ┆ 1996 ┆ [Produced by Irv Gotti]         ┆ 3   ┆ en       │\n",
            "│                   ┆     ┆           ┆      ┆                                 ┆     ┆          │\n",
            "│                   ┆     ┆           ┆      ┆ [Intr…                          ┆     ┆          │\n",
            "│ Forgive Me Father ┆ rap ┆ Fabolous  ┆ 2003 ┆ Maybe cause I'm eatin           ┆ 4   ┆ en       │\n",
            "│                   ┆     ┆           ┆      ┆ And thes…                       ┆     ┆          │\n",
            "│ Down and Out      ┆ rap ┆ Cam'ron   ┆ 2004 ┆ [Produced by Kanye West and Br… ┆ 5   ┆ en       │\n",
            "│ Fly In            ┆ rap ┆ Lil Wayne ┆ 2005 ┆ [Intro]                         ┆ 6   ┆ en       │\n",
            "│                   ┆     ┆           ┆      ┆ So they ask me                  ┆     ┆          │\n",
            "│                   ┆     ┆           ┆      ┆ \"Young …                        ┆     ┆          │\n",
            "└───────────────────┴─────┴───────────┴──────┴─────────────────────────────────┴─────┴──────────┘\n"
          ]
        }
      ]
    },
    {
      "cell_type": "code",
      "source": [
        "# filtering out non-english songs & non-songs (tag = 'misc')\n",
        "\n",
        "print('before', raw_data.shape)\n",
        "\n",
        "only_english = raw_data.filter(pl.col('language') == 'en').drop('language')\n",
        "english_songs = only_english.filter(pl.col('tag') != 'misc')\n",
        "\n",
        "print('after', english_songs.shape)"
      ],
      "metadata": {
        "colab": {
          "base_uri": "https://localhost:8080/"
        },
        "id": "MkwsuLXbzZ_6",
        "outputId": "294300ba-f9ec-4b5d-edc7-730550a8827c"
      },
      "execution_count": null,
      "outputs": [
        {
          "output_type": "stream",
          "name": "stdout",
          "text": [
            "before (5134856, 7)\n",
            "after (3233212, 6)\n"
          ]
        }
      ]
    },
    {
      "cell_type": "code",
      "source": [
        "# limiting to top_n most common genres\n",
        "\n",
        "genre_to_count = {}\n",
        "top_n = 5\n",
        "\n",
        "for name, data in english_songs.group_by('tag'):\n",
        "    genre_to_count[name[0]] = data.shape[0]\n",
        "\n",
        "top_genres_list = sorted([genre for genre in genre_to_count], key = lambda x : genre_to_count[x], reverse = True)[:top_n]\n",
        "for genre in top_genres_list :\n",
        "    print(genre, '->', genre_to_count[genre])\n",
        "\n",
        "top_genres_songs = english_songs.filter(pl.col('tag').is_in(top_genres_list))\n",
        "\n",
        "assert top_genres_songs.shape[0] == sum([genre_to_count[genre] for genre in top_genres_list]), 'Incorrect number of genre-limited songs.'"
      ],
      "metadata": {
        "colab": {
          "base_uri": "https://localhost:8080/"
        },
        "id": "O7aNQ4da0q8T",
        "outputId": "f16ccd39-2385-4de0-d6d9-c186a4a713e5"
      },
      "execution_count": null,
      "outputs": [
        {
          "output_type": "stream",
          "name": "stdout",
          "text": [
            "pop -> 1393559\n",
            "rap -> 964605\n",
            "rock -> 633308\n",
            "rb -> 155082\n",
            "country -> 86658\n"
          ]
        }
      ]
    },
    {
      "cell_type": "code",
      "source": [
        "# sampling data to produce consistent #s of songs per year per genre\n",
        "\n",
        "year_range = range(1980, 2023)\n",
        "year_limit = 160\n",
        "\n",
        "year_limited_songs = top_genres_songs.filter(pl.col('tag') == 'misc') # intentionally empty DF; collects final year-limited songs\n",
        "\n",
        "for genre in top_genres_list :\n",
        "    genre_songs = top_genres_songs.filter(pl.col('tag') == genre)\n",
        "\n",
        "    for year in year_range :\n",
        "        try :\n",
        "            this_years_songs = genre_songs.filter(pl.col('year') == year).sample(year_limit) # randomly sample year_limit songs\n",
        "        except :\n",
        "            raise Exception('The genre ' + genre + ' in year ' + str(year) + ' did not have at least ' + str(year_limit) + ' songs in the dataset.')\n",
        "\n",
        "        year_limited_songs = pl.concat([year_limited_songs, this_years_songs], how = 'vertical') # add to collector DF\n",
        "\n",
        "\n",
        "assert year_limited_songs.shape[0] == len(top_genres_list) * len(year_range) * year_limit, 'Incorrect total of year-limited songs.'"
      ],
      "metadata": {
        "id": "MB6tFE7xHUBa"
      },
      "execution_count": null,
      "outputs": []
    },
    {
      "cell_type": "code",
      "source": [
        "# save results to google drive\n",
        "\n",
        "year_limited_songs.write_csv(\"year_limited_songs.csv\")\n",
        "files.download('year_limited_songs.csv')"
      ],
      "metadata": {
        "colab": {
          "base_uri": "https://localhost:8080/",
          "height": 17
        },
        "id": "976lzpbWg8Ak",
        "outputId": "76bd9fff-f68e-4375-8459-ca92be743eee"
      },
      "execution_count": null,
      "outputs": [
        {
          "output_type": "display_data",
          "data": {
            "text/plain": [
              "<IPython.core.display.Javascript object>"
            ],
            "application/javascript": [
              "\n",
              "    async function download(id, filename, size) {\n",
              "      if (!google.colab.kernel.accessAllowed) {\n",
              "        return;\n",
              "      }\n",
              "      const div = document.createElement('div');\n",
              "      const label = document.createElement('label');\n",
              "      label.textContent = `Downloading \"${filename}\": `;\n",
              "      div.appendChild(label);\n",
              "      const progress = document.createElement('progress');\n",
              "      progress.max = size;\n",
              "      div.appendChild(progress);\n",
              "      document.body.appendChild(div);\n",
              "\n",
              "      const buffers = [];\n",
              "      let downloaded = 0;\n",
              "\n",
              "      const channel = await google.colab.kernel.comms.open(id);\n",
              "      // Send a message to notify the kernel that we're ready.\n",
              "      channel.send({})\n",
              "\n",
              "      for await (const message of channel.messages) {\n",
              "        // Send a message to notify the kernel that we're ready.\n",
              "        channel.send({})\n",
              "        if (message.buffers) {\n",
              "          for (const buffer of message.buffers) {\n",
              "            buffers.push(buffer);\n",
              "            downloaded += buffer.byteLength;\n",
              "            progress.value = downloaded;\n",
              "          }\n",
              "        }\n",
              "      }\n",
              "      const blob = new Blob(buffers, {type: 'application/binary'});\n",
              "      const a = document.createElement('a');\n",
              "      a.href = window.URL.createObjectURL(blob);\n",
              "      a.download = filename;\n",
              "      div.appendChild(a);\n",
              "      a.click();\n",
              "      div.remove();\n",
              "    }\n",
              "  "
            ]
          },
          "metadata": {}
        },
        {
          "output_type": "display_data",
          "data": {
            "text/plain": [
              "<IPython.core.display.Javascript object>"
            ],
            "application/javascript": [
              "download(\"download_75bce147-af5e-4e4c-b5fc-5df55ac2ab21\", \"year_limited_songs.csv\", 55714816)"
            ]
          },
          "metadata": {}
        }
      ]
    },
    {
      "cell_type": "markdown",
      "source": [
        "DS: some basic data viz"
      ],
      "metadata": {
        "id": "ZOpIKXsrj5GN"
      }
    },
    {
      "cell_type": "code",
      "source": [
        "import os\n",
        "from google.colab import drive, files\n",
        "import pandas as pd\n",
        "import polars as pl\n",
        "import matplotlib.pyplot as plt\n",
        "from transformers import BertTokenizer\n",
        "\n",
        "drive.mount('/content/drive')"
      ],
      "metadata": {
        "colab": {
          "base_uri": "https://localhost:8080/"
        },
        "id": "Y8vpQud6lhtW",
        "outputId": "b89fb67f-6eee-420f-f0ed-cc961cbfe503"
      },
      "execution_count": null,
      "outputs": [
        {
          "output_type": "stream",
          "name": "stdout",
          "text": [
            "Drive already mounted at /content/drive; to attempt to forcibly remount, call drive.mount(\"/content/drive\", force_remount=True).\n"
          ]
        }
      ]
    },
    {
      "cell_type": "code",
      "source": [
        "%cd /content/drive/MyDrive/'6.8611 final project'"
      ],
      "metadata": {
        "colab": {
          "base_uri": "https://localhost:8080/"
        },
        "id": "JNcclHLum0ul",
        "outputId": "c27475a1-e166-47a3-f659-ef1cb7e9a38d"
      },
      "execution_count": null,
      "outputs": [
        {
          "output_type": "stream",
          "name": "stdout",
          "text": [
            "/content/drive/.shortcut-targets-by-id/10KmyK1yEw0WioL8iUTO0ZpM7KwE7Ofnx/6.8611 final project\n"
          ]
        }
      ]
    },
    {
      "cell_type": "code",
      "source": [
        "raw_data_plot = pl.read_csv('genius_song_lyrics/song_lyrics.csv', columns = ['title', 'tag', 'artist', 'year', 'lyrics', 'id', 'language'])"
      ],
      "metadata": {
        "id": "ICVeufV9oAtr"
      },
      "execution_count": null,
      "outputs": []
    },
    {
      "cell_type": "code",
      "source": [
        "years = raw_data_plot['year'].to_numpy()\n",
        "filtered_years = years[(years >= 1980) & (years <= 2023)]\n",
        "\n",
        "# plot\n",
        "plt.figure(figsize=(10, 6))\n",
        "plt.hist(filtered_years, bins=10)\n",
        "plt.title('Distribution of Songs by Year (1980–2023)', fontsize=14)\n",
        "plt.xlabel('Year', fontsize=12)\n",
        "plt.ylabel('Number of Songs', fontsize=12)\n",
        "plt.grid(axis='y', linestyle='--', alpha=0.7)\n",
        "plt.tight_layout()\n",
        "plt.show()"
      ],
      "metadata": {
        "colab": {
          "base_uri": "https://localhost:8080/",
          "height": 607
        },
        "id": "3LMjxfjFfgB_",
        "outputId": "f229f683-b47a-4c1e-8379-23f6b7d7b4ff"
      },
      "execution_count": null,
      "outputs": [
        {
          "output_type": "display_data",
          "data": {
            "text/plain": [
              "<Figure size 1000x600 with 1 Axes>"
            ],
            "image/png": "[encoded data removed]"
          },
          "metadata": {}
        }
      ]
    },
    {
      "cell_type": "code",
      "source": [
        "# dataset shape\n",
        "raw_data_plot.shape"
      ],
      "metadata": {
        "colab": {
          "base_uri": "https://localhost:8080/"
        },
        "id": "u7piZeBwpe2l",
        "outputId": "e1573989-07de-4bfc-c0ee-9b08674407a1"
      },
      "execution_count": null,
      "outputs": [
        {
          "output_type": "execute_result",
          "data": {
            "text/plain": [
              "(5134856, 7)"
            ]
          },
          "metadata": {},
          "execution_count": 6
        }
      ]
    },
    {
      "cell_type": "code",
      "source": [
        "# filtering out for english\n",
        "eng_data = raw_data_plot.filter((pl.col('language') == 'en') & (pl.col('tag') != 'misc')).drop('language')"
      ],
      "metadata": {
        "id": "cFes_sG-LNLB"
      },
      "execution_count": null,
      "outputs": []
    },
    {
      "cell_type": "code",
      "source": [
        "print(eng_data.columns)"
      ],
      "metadata": {
        "colab": {
          "base_uri": "https://localhost:8080/"
        },
        "id": "N8UQ2ksTrluu",
        "outputId": "ce605bf1-6d19-4e65-b1aa-426916dfee07"
      },
      "execution_count": null,
      "outputs": [
        {
          "output_type": "stream",
          "name": "stdout",
          "text": [
            "['title', 'tag', 'artist', 'year', 'lyrics', 'id']\n"
          ]
        }
      ]
    },
    {
      "cell_type": "code",
      "source": [
        "# just curious: are there rows without lyrics? (answer: no)\n",
        "eng_data.filter(pl.col('lyrics').is_null())"
      ],
      "metadata": {
        "colab": {
          "base_uri": "https://localhost:8080/",
          "height": 115
        },
        "id": "k0PQcoupMfyo",
        "outputId": "4a1063ef-00f0-452a-857f-d708d7101d10"
      },
      "execution_count": null,
      "outputs": [
        {
          "output_type": "execute_result",
          "data": {
            "text/plain": [
              "shape: (0, 6)\n",
              "┌───────┬─────┬────────┬──────┬────────┬─────┐\n",
              "│ title ┆ tag ┆ artist ┆ year ┆ lyrics ┆ id  │\n",
              "│ ---   ┆ --- ┆ ---    ┆ ---  ┆ ---    ┆ --- │\n",
              "│ str   ┆ str ┆ str    ┆ i64  ┆ str    ┆ i64 │\n",
              "╞═══════╪═════╪════════╪══════╪════════╪═════╡\n",
              "└───────┴─────┴────────┴──────┴────────┴─────┘"
            ],
            "text/html": [
              "<div><style>\n",
              ".dataframe > thead > tr,\n",
              ".dataframe > tbody > tr {\n",
              "  text-align: right;\n",
              "  white-space: pre-wrap;\n",
              "}\n",
              "</style>\n",
              "<small>shape: (0, 6)</small><table border=\"1\" class=\"dataframe\"><thead><tr><th>title</th><th>tag</th><th>artist</th><th>year</th><th>lyrics</th><th>id</th></tr><tr><td>str</td><td>str</td><td>str</td><td>i64</td><td>str</td><td>i64</td></tr></thead><tbody></tbody></table></div>"
            ]
          },
          "metadata": {},
          "execution_count": 7
        }
      ]
    },
    {
      "cell_type": "code",
      "source": [
        "# types of genres and their frequency\n",
        "genre_counts = (\n",
        "    eng_data\n",
        "    .group_by(\"tag\")\n",
        "    .agg(pl.len().alias(\"count\"))\n",
        ").sort(\"count\", descending=True)"
      ],
      "metadata": {
        "id": "JWphEMpAj9ik"
      },
      "execution_count": null,
      "outputs": []
    },
    {
      "cell_type": "code",
      "source": [
        "genre_counts"
      ],
      "metadata": {
        "colab": {
          "base_uri": "https://localhost:8080/",
          "height": 254
        },
        "id": "coiIdhPRs5ii",
        "outputId": "6b34beb8-91e5-4e4e-ad13-cf59b970e4d4"
      },
      "execution_count": null,
      "outputs": [
        {
          "output_type": "execute_result",
          "data": {
            "text/plain": [
              "shape: (5, 2)\n",
              "┌─────────┬─────────┐\n",
              "│ tag     ┆ count   │\n",
              "│ ---     ┆ ---     │\n",
              "│ str     ┆ u32     │\n",
              "╞═════════╪═════════╡\n",
              "│ pop     ┆ 1393559 │\n",
              "│ rap     ┆ 964605  │\n",
              "│ rock    ┆ 633308  │\n",
              "│ rb      ┆ 155082  │\n",
              "│ country ┆ 86658   │\n",
              "└─────────┴─────────┘"
            ],
            "text/html": [
              "<div><style>\n",
              ".dataframe > thead > tr,\n",
              ".dataframe > tbody > tr {\n",
              "  text-align: right;\n",
              "  white-space: pre-wrap;\n",
              "}\n",
              "</style>\n",
              "<small>shape: (5, 2)</small><table border=\"1\" class=\"dataframe\"><thead><tr><th>tag</th><th>count</th></tr><tr><td>str</td><td>u32</td></tr></thead><tbody><tr><td>&quot;pop&quot;</td><td>1393559</td></tr><tr><td>&quot;rap&quot;</td><td>964605</td></tr><tr><td>&quot;rock&quot;</td><td>633308</td></tr><tr><td>&quot;rb&quot;</td><td>155082</td></tr><tr><td>&quot;country&quot;</td><td>86658</td></tr></tbody></table></div>"
            ]
          },
          "metadata": {},
          "execution_count": 10
        }
      ]
    },
    {
      "cell_type": "code",
      "source": [
        "genre_counts_pd = genre_counts.to_pandas()\n",
        "plt.figure(figsize=(10, 6))\n",
        "plt.bar(genre_counts_pd['tag'], genre_counts_pd['count']/genre_counts_pd['count'].sum())\n",
        "plt.xlabel(\"Genre\")\n",
        "plt.ylabel(\"Freq. (% of Total Dataset)\")\n",
        "plt.title(\"Freq. of Each Genre\")\n",
        "plt.show()"
      ],
      "metadata": {
        "colab": {
          "base_uri": "https://localhost:8080/",
          "height": 585
        },
        "id": "fepHF3SWtXUZ",
        "outputId": "9505f550-e82c-4811-a636-3a0b83e77b2b"
      },
      "execution_count": null,
      "outputs": [
        {
          "output_type": "display_data",
          "data": {
            "text/plain": [
              "<Figure size 1000x600 with 1 Axes>"
            ],
            "image/png": "[encoded data removed]"
          },
          "metadata": {}
        }
      ]
    },
    {
      "cell_type": "code",
      "source": [
        "# looking at lyrics (on avg. how many tokens per datapoint/row) (using bert-base-uncased as an example)\n",
        "tokenizer = BertTokenizer.from_pretrained(\"bert-base-uncased\")"
      ],
      "metadata": {
        "colab": {
          "base_uri": "https://localhost:8080/",
          "height": 249,
          "referenced_widgets": [
            "31a5d301067f4d87bede8e220650fed7",
            "4cfc0ba044aa4da2940dacb7498ede43",
            "fd62e535895140fb9ca1b554bb991295",
            "ee208b28206647d4818731facab319ef",
            "a3a0b8ffd58540a1a409c1ae1cdfc324",
            "1a20cb8ae630489cb23825e8a224f4d7",
            "7ee867304cde46a4aa5ba865fb18d93d",
            "dcde31ffa23849fc94c4155d70500233",
            "643c379488de49a484c1eea5b5fa3f19",
            "8b06d9228e484aaaa34814ab74787b29",
            "2a9e6bc3af0c4711bc69a4269194834b",
            "a6cb63ea777e4aaa8701b05e0f57183e",
            "3ef748d830d34d708807d4b10bf959e8",
            "50b28dc2c30e41c383e6c8c6cbb069b4",
            "b957ace5e28f4d87937b7e8fd4af5a94",
            "041ce957146d4234a695f75936978c91",
            "d4a6a9736bbe411990680bf541a84e40",
            "d7bb1cea61fb4bdcb97216bf4e9f5a7e",
            "141e35f2de6f4c399aef774274076a65",
            "277f4afab3574b96945086903a95e895",
            "16d460c5ea6340efae89045d47818d31",
            "27036cd8e5734b5a9f9c7ab06080a740",
            "73ab0a4eee8644a8a7de66ad20254306",
            "738e59393c274e4abb2d930be8185fd0",
            "135872561d0344f295d3072860712d94",
            "a99e699b746d42a395b8db4ca3e67762",
            "afacb6e5eb4b4e8ba509896fc2bca5c6",
            "e7a02e9bf500465497d7013900b90686",
            "c17e78e45f584464acc012590a8c6f4f",
            "8e465215684a4fb3ab3e30e7201cd420",
            "2089060e811e47298f0d9b2eca87a5e1",
            "00860210443e4eeab63b41bdadd9afa6",
            "cd1ba0610106422587e516cbba5d9fdb",
            "844a0d19a729454ca89b90b6c70187fb",
            "3add00b18d7b4c538d8fe1eddc122d60",
            "f4acd34b058d433b875bd1e918b7f1f9",
            "dcc389e8f35f4a6d914e0ba2e03b53c5",
            "52dd4b1a6c7f4936a9124db17300719e",
            "41b154855a054112867bf170a9b8ccbf",
            "2e2c1929052249139c21eba9edaa1554",
            "0a4a9f5d9efd443298b143da9c269a1c",
            "d42ea7602d2543589d584d90a0edbd06",
            "830a964e7f244d78adc560978fb44922",
            "841565efcf1a4fd69494619e8c3e4040"
          ]
        },
        "id": "mljIRA4ykZKo",
        "outputId": "3230c521-dd5a-439a-d0d2-6e4b0f528269"
      },
      "execution_count": null,
      "outputs": [
        {
          "output_type": "stream",
          "name": "stderr",
          "text": [
            "/usr/local/lib/python3.10/dist-packages/huggingface_hub/utils/_auth.py:94: UserWarning: \n",
            "The secret `HF_TOKEN` does not exist in your Colab secrets.\n",
            "To authenticate with the Hugging Face Hub, create a token in your settings tab (https://huggingface.co/settings/tokens), set it as secret in your Google Colab and restart your session.\n",
            "You will be able to reuse this secret in all of your notebooks.\n",
            "Please note that authentication is recommended but still optional to access public models or datasets.\n",
            "  warnings.warn(\n"
          ]
        },
        {
          "output_type": "display_data",
          "data": {
            "text/plain": [
              "tokenizer_config.json:   0%|          | 0.00/48.0 [00:00<?, ?B/s]"
            ],
            "application/vnd.jupyter.widget-view+json": {
              "version_major": 2,
              "version_minor": 0,
              "model_id": "31a5d301067f4d87bede8e220650fed7"
            }
          },
          "metadata": {}
        },
        {
          "output_type": "display_data",
          "data": {
            "text/plain": [
              "vocab.txt:   0%|          | 0.00/232k [00:00<?, ?B/s]"
            ],
            "application/vnd.jupyter.widget-view+json": {
              "version_major": 2,
              "version_minor": 0,
              "model_id": "a6cb63ea777e4aaa8701b05e0f57183e"
            }
          },
          "metadata": {}
        },
        {
          "output_type": "display_data",
          "data": {
            "text/plain": [
              "tokenizer.json:   0%|          | 0.00/466k [00:00<?, ?B/s]"
            ],
            "application/vnd.jupyter.widget-view+json": {
              "version_major": 2,
              "version_minor": 0,
              "model_id": "73ab0a4eee8644a8a7de66ad20254306"
            }
          },
          "metadata": {}
        },
        {
          "output_type": "display_data",
          "data": {
            "text/plain": [
              "config.json:   0%|          | 0.00/570 [00:00<?, ?B/s]"
            ],
            "application/vnd.jupyter.widget-view+json": {
              "version_major": 2,
              "version_minor": 0,
              "model_id": "844a0d19a729454ca89b90b6c70187fb"
            }
          },
          "metadata": {}
        }
      ]
    },
    {
      "cell_type": "code",
      "source": [
        "def count_bert_tokens(text):\n",
        "    tokens = tokenizer.tokenize(text)\n",
        "    return len(tokens)\n",
        "\n",
        "token_counts = eng_data.sample(n=1000, seed=42).with_columns([\n",
        "    pl.col(\"lyrics\").map_elements(count_bert_tokens).alias(\"bert_token_count\")\n",
        "])"
      ],
      "metadata": {
        "colab": {
          "base_uri": "https://localhost:8080/"
        },
        "id": "klNilbD8vr4R",
        "outputId": "6183dcaa-a856-4469-d7df-0e9b3c32b82b"
      },
      "execution_count": null,
      "outputs": [
        {
          "output_type": "stream",
          "name": "stderr",
          "text": [
            "<ipython-input-12-b4d1c3126efe>:5: MapWithoutReturnDtypeWarning: Calling `map_elements` without specifying `return_dtype` can lead to unpredictable results. Specify `return_dtype` to silence this warning.\n",
            "  token_counts = eng_data.sample(n=1000, seed=42).with_columns([\n"
          ]
        }
      ]
    },
    {
      "cell_type": "code",
      "source": [
        "token_counts['bert_token_count']"
      ],
      "metadata": {
        "colab": {
          "base_uri": "https://localhost:8080/",
          "height": 452
        },
        "id": "MVFwZj5TO7pe",
        "outputId": "a056b2d0-1fc0-40cf-c81f-bdf5ad43122f"
      },
      "execution_count": null,
      "outputs": [
        {
          "output_type": "execute_result",
          "data": {
            "text/plain": [
              "shape: (1_000, 7)\n",
              "┌──────────────────┬──────┬──────────────────┬──────┬──────────────────┬─────────┬─────────────────┐\n",
              "│ title            ┆ tag  ┆ artist           ┆ year ┆ lyrics           ┆ id      ┆ bert_token_coun │\n",
              "│ ---              ┆ ---  ┆ ---              ┆ ---  ┆ ---              ┆ ---     ┆ t               │\n",
              "│ str              ┆ str  ┆ str              ┆ i64  ┆ str              ┆ i64     ┆ ---             │\n",
              "│                  ┆      ┆                  ┆      ┆                  ┆         ┆ i64             │\n",
              "╞══════════════════╪══════╪══════════════════╪══════╪══════════════════╪═════════╪═════════════════╡\n",
              "│ Forevermore      ┆ pop  ┆ Joe Pisapia      ┆ 2001 ┆ I only want to   ┆ 1067795 ┆ 86              │\n",
              "│                  ┆      ┆                  ┆      ┆ be close to you… ┆         ┆                 │\n",
              "│ Beautiful        ┆ pop  ┆ Brandyn Hazelton ┆ 2010 ┆ I see you there, ┆ 1716702 ┆ 333             │\n",
              "│                  ┆      ┆                  ┆      ┆ lying in the …   ┆         ┆                 │\n",
              "│ Seether          ┆ rock ┆ Veruca Salt      ┆ 1994 ┆ Ow!              ┆ 1677931 ┆ 286             │\n",
              "│                  ┆      ┆                  ┆      ┆                  ┆         ┆                 │\n",
              "│                  ┆      ┆                  ┆      ┆ Seether is       ┆         ┆                 │\n",
              "│                  ┆      ┆                  ┆      ┆ neither loose …  ┆         ┆                 │\n",
              "│ Am Yours         ┆ rap  ┆ Jozeph Asa       ┆ 2020 ┆ [Hook]           ┆ 5479900 ┆ 615             │\n",
              "│                  ┆      ┆                  ┆      ┆ I had an         ┆         ┆                 │\n",
              "│                  ┆      ┆                  ┆      ┆ illusion, I ha…  ┆         ┆                 │\n",
              "│ FlatBed          ┆ rap  ┆ CHRIZI           ┆ 2018 ┆ [Intro]          ┆ 3925680 ┆ 394             │\n",
              "│ Freestyle        ┆      ┆                  ┆      ┆ (Buh, buh, buh,  ┆         ┆                 │\n",
              "│ Minecraft Re…    ┆      ┆                  ┆      ┆ buh, b…          ┆         ┆                 │\n",
              "│ …                ┆ …    ┆ …                ┆ …    ┆ …                ┆ …       ┆ …               │\n",
              "│ Up to you        ┆ rb   ┆ Faith McCaine    ┆ 2019 ┆ [verse 1:]       ┆ 4205623 ┆ 647             │\n",
              "│                  ┆      ┆                  ┆      ┆ I usually just   ┆         ┆                 │\n",
              "│                  ┆      ┆                  ┆      ┆ run …            ┆         ┆                 │\n",
              "│ ​glow up          ┆ rap  ┆ wolfacejoeyy     ┆ 2021 ┆ [Intro]          ┆ 6582230 ┆ 581             │\n",
              "│                  ┆      ┆                  ┆      ┆ (Yo, Arena)      ┆         ┆                 │\n",
              "│                  ┆      ┆                  ┆      ┆                  ┆         ┆                 │\n",
              "│                  ┆      ┆                  ┆      ┆ [Chorus]         ┆         ┆                 │\n",
              "│                  ┆      ┆                  ┆      ┆ …                ┆         ┆                 │\n",
              "│ Reappear         ┆ pop  ┆ School of Seven  ┆ 2012 ┆ You know it's    ┆ 836547  ┆ 93              │\n",
              "│                  ┆      ┆ Bells            ┆      ┆ time to find     ┆         ┆                 │\n",
              "│                  ┆      ┆                  ┆      ┆ the…             ┆         ┆                 │\n",
              "│ I Dont Wanna     ┆ pop  ┆ Tina Turner      ┆ 1989 ┆ [Intro]          ┆ 7124709 ┆ 432             │\n",
              "│ Lose You 2021    ┆      ┆                  ┆      ┆ Oh, oh-oh        ┆         ┆                 │\n",
              "│ Rem…             ┆      ┆                  ┆      ┆                  ┆         ┆                 │\n",
              "│                  ┆      ┆                  ┆      ┆ [Verse 1]        ┆         ┆                 │\n",
              "│                  ┆      ┆                  ┆      ┆ W…               ┆         ┆                 │\n",
              "│ Trap House Pt. 2 ┆ rap  ┆ GSNTD            ┆ 2019 ┆ [Intro: TD       ┆ 4521128 ┆ 681             │\n",
              "│                  ┆      ┆                  ┆      ┆ Ceasar]          ┆         ┆                 │\n",
              "│                  ┆      ┆                  ┆      ┆ Yuh, yuh         ┆         ┆                 │\n",
              "│                  ┆      ┆                  ┆      ┆ It…              ┆         ┆                 │\n",
              "└──────────────────┴──────┴──────────────────┴──────┴──────────────────┴─────────┴─────────────────┘"
            ],
            "text/html": [
              "<div><style>\n",
              ".dataframe > thead > tr,\n",
              ".dataframe > tbody > tr {\n",
              "  text-align: right;\n",
              "  white-space: pre-wrap;\n",
              "}\n",
              "</style>\n",
              "<small>shape: (1_000, 7)</small><table border=\"1\" class=\"dataframe\"><thead><tr><th>title</th><th>tag</th><th>artist</th><th>year</th><th>lyrics</th><th>id</th><th>bert_token_count</th></tr><tr><td>str</td><td>str</td><td>str</td><td>i64</td><td>str</td><td>i64</td><td>i64</td></tr></thead><tbody><tr><td>&quot;Forevermore&quot;</td><td>&quot;pop&quot;</td><td>&quot;Joe Pisapia&quot;</td><td>2001</td><td>&quot;I only want to be close to you…</td><td>1067795</td><td>86</td></tr><tr><td>&quot;Beautiful&quot;</td><td>&quot;pop&quot;</td><td>&quot;Brandyn Hazelton&quot;</td><td>2010</td><td>&quot;I see you there, lying in the …</td><td>1716702</td><td>333</td></tr><tr><td>&quot;Seether&quot;</td><td>&quot;rock&quot;</td><td>&quot;Veruca Salt&quot;</td><td>1994</td><td>&quot;Ow!\n",
              "\n",
              "Seether is neither loose …</td><td>1677931</td><td>286</td></tr><tr><td>&quot;Am Yours&quot;</td><td>&quot;rap&quot;</td><td>&quot;Jozeph Asa&quot;</td><td>2020</td><td>&quot;[Hook]\n",
              "I had an illusion, I ha…</td><td>5479900</td><td>615</td></tr><tr><td>&quot;FlatBed Freestyle Minecraft Re…</td><td>&quot;rap&quot;</td><td>&quot;CHRIZI&quot;</td><td>2018</td><td>&quot;[Intro]\n",
              "(Buh, buh, buh, buh, b…</td><td>3925680</td><td>394</td></tr><tr><td>&hellip;</td><td>&hellip;</td><td>&hellip;</td><td>&hellip;</td><td>&hellip;</td><td>&hellip;</td><td>&hellip;</td></tr><tr><td>&quot;Up to you&quot;</td><td>&quot;rb&quot;</td><td>&quot;Faith McCaine&quot;</td><td>2019</td><td>&quot;[verse 1:]\n",
              "I usually just run …</td><td>4205623</td><td>647</td></tr><tr><td>&quot;​glow up&quot;</td><td>&quot;rap&quot;</td><td>&quot;wolfacejoeyy&quot;</td><td>2021</td><td>&quot;[Intro]\n",
              "(Yo, Arena)\n",
              "\n",
              "[Chorus]\n",
              "…</td><td>6582230</td><td>581</td></tr><tr><td>&quot;Reappear&quot;</td><td>&quot;pop&quot;</td><td>&quot;School of Seven Bells&quot;</td><td>2012</td><td>&quot;You know it&#x27;s time to find the…</td><td>836547</td><td>93</td></tr><tr><td>&quot;I Dont Wanna Lose You 2021 Rem…</td><td>&quot;pop&quot;</td><td>&quot;Tina Turner&quot;</td><td>1989</td><td>&quot;[Intro]\n",
              "Oh, oh-oh\n",
              "\n",
              "[Verse 1]\n",
              "W…</td><td>7124709</td><td>432</td></tr><tr><td>&quot;Trap House Pt. 2&quot;</td><td>&quot;rap&quot;</td><td>&quot;GSNTD&quot;</td><td>2019</td><td>&quot;[Intro: TD Ceasar]\n",
              "Yuh, yuh\n",
              "It…</td><td>4521128</td><td>681</td></tr></tbody></table></div>"
            ]
          },
          "metadata": {},
          "execution_count": 16
        }
      ]
    },
    {
      "cell_type": "code",
      "source": [
        "top_rap_song = token_counts.sort(\"bert_token_count\", descending=True).head(1)\n",
        "\n",
        "top_rap_song"
      ],
      "metadata": {
        "id": "3RZlhRSP5CdN",
        "colab": {
          "base_uri": "https://localhost:8080/",
          "height": 129
        },
        "outputId": "7fa5c6ce-7d69-446e-bb71-6a0953fa460b"
      },
      "execution_count": null,
      "outputs": [
        {
          "output_type": "execute_result",
          "data": {
            "text/plain": [
              "shape: (1, 7)\n",
              "┌──────────────┬─────┬─────────────────┬──────┬───────────────────────┬─────────┬──────────────────┐\n",
              "│ title        ┆ tag ┆ artist          ┆ year ┆ lyrics                ┆ id      ┆ bert_token_count │\n",
              "│ ---          ┆ --- ┆ ---             ┆ ---  ┆ ---                   ┆ ---     ┆ ---              │\n",
              "│ str          ┆ str ┆ str             ┆ i64  ┆ str                   ┆ i64     ┆ i64              │\n",
              "╞══════════════╪═════╪═════════════════╪══════╪═══════════════════════╪═════════╪══════════════════╡\n",
              "│ Real Deal vs ┆ rap ┆ King of the Dot ┆ 2018 ┆ [Round 1: Math Hoffa] ┆ 3731520 ┆ 4192             │\n",
              "│ Math Hoffa   ┆     ┆                 ┆      ┆ In this …             ┆         ┆                  │\n",
              "└──────────────┴─────┴─────────────────┴──────┴───────────────────────┴─────────┴──────────────────┘"
            ],
            "text/html": [
              "<div><style>\n",
              ".dataframe > thead > tr,\n",
              ".dataframe > tbody > tr {\n",
              "  text-align: right;\n",
              "  white-space: pre-wrap;\n",
              "}\n",
              "</style>\n",
              "<small>shape: (1, 7)</small><table border=\"1\" class=\"dataframe\"><thead><tr><th>title</th><th>tag</th><th>artist</th><th>year</th><th>lyrics</th><th>id</th><th>bert_token_count</th></tr><tr><td>str</td><td>str</td><td>str</td><td>i64</td><td>str</td><td>i64</td><td>i64</td></tr></thead><tbody><tr><td>&quot;Real Deal vs Math Hoffa&quot;</td><td>&quot;rap&quot;</td><td>&quot;King of the Dot&quot;</td><td>2018</td><td>&quot;[Round 1: Math Hoffa]\n",
              "In this …</td><td>3731520</td><td>4192</td></tr></tbody></table></div>"
            ]
          },
          "metadata": {},
          "execution_count": 14
        }
      ]
    },
    {
      "cell_type": "code",
      "source": [
        "# histogram of bert token counts for 1,000 Randomly-Selected Songs\n",
        "plt.hist(token_counts['bert_token_count'], bins='auto')\n",
        "plt.xlabel(\"Token Count\")\n",
        "plt.ylabel(\"Freq.\")\n",
        "plt.title(\"BERT Token Counts of Lyrics from 1,000 Randomly-Selected Songs\")\n",
        "plt.show()"
      ],
      "metadata": {
        "colab": {
          "base_uri": "https://localhost:8080/",
          "height": 493
        },
        "id": "P6_yagq1PBAw",
        "outputId": "19e46241-c496-483e-e1ad-4fa98c11d582"
      },
      "execution_count": null,
      "outputs": [
        {
          "output_type": "display_data",
          "data": {
            "text/plain": [
              "<Figure size 640x480 with 1 Axes>"
            ],
            "image/png": "[encoded data removed]"
          },
          "metadata": {}
        }
      ]
    },
    {
      "cell_type": "code",
      "source": [
        "# summary statistics (mean = 375, std=282)\n",
        "token_counts['bert_token_count'].describe()"
      ],
      "metadata": {
        "colab": {
          "base_uri": "https://localhost:8080/",
          "height": 391
        },
        "id": "kOv6ntN0PvrJ",
        "outputId": "22862096-b4c8-495b-eeb1-dd60b85587ec"
      },
      "execution_count": null,
      "outputs": [
        {
          "output_type": "execute_result",
          "data": {
            "text/plain": [
              "shape: (9, 2)\n",
              "┌────────────┬────────────┐\n",
              "│ statistic  ┆ value      │\n",
              "│ ---        ┆ ---        │\n",
              "│ str        ┆ f64        │\n",
              "╞════════════╪════════════╡\n",
              "│ count      ┆ 1000.0     │\n",
              "│ null_count ┆ 0.0        │\n",
              "│ mean       ┆ 375.906    │\n",
              "│ std        ┆ 282.776891 │\n",
              "│ min        ┆ 37.0       │\n",
              "│ 25%        ┆ 198.0      │\n",
              "│ 50%        ┆ 306.0      │\n",
              "│ 75%        ┆ 473.0      │\n",
              "│ max        ┆ 4192.0     │\n",
              "└────────────┴────────────┘"
            ],
            "text/html": [
              "<div><style>\n",
              ".dataframe > thead > tr,\n",
              ".dataframe > tbody > tr {\n",
              "  text-align: right;\n",
              "  white-space: pre-wrap;\n",
              "}\n",
              "</style>\n",
              "<small>shape: (9, 2)</small><table border=\"1\" class=\"dataframe\"><thead><tr><th>statistic</th><th>value</th></tr><tr><td>str</td><td>f64</td></tr></thead><tbody><tr><td>&quot;count&quot;</td><td>1000.0</td></tr><tr><td>&quot;null_count&quot;</td><td>0.0</td></tr><tr><td>&quot;mean&quot;</td><td>375.906</td></tr><tr><td>&quot;std&quot;</td><td>282.776891</td></tr><tr><td>&quot;min&quot;</td><td>37.0</td></tr><tr><td>&quot;25%&quot;</td><td>198.0</td></tr><tr><td>&quot;50%&quot;</td><td>306.0</td></tr><tr><td>&quot;75%&quot;</td><td>473.0</td></tr><tr><td>&quot;max&quot;</td><td>4192.0</td></tr></tbody></table></div>"
            ]
          },
          "metadata": {},
          "execution_count": 21
        }
      ]
    },
    {
      "cell_type": "code",
      "source": [
        "# same plot as above but by genre (won't include this as a plot though, takes up too much space so using a table instead.)\n",
        "token_counts_pd = token_counts.to_pandas()\n",
        "genres = token_counts_pd['tag'].unique()\n",
        "n_genres = len(genres)\n",
        "\n",
        "fig, axs = plt.subplots(n_genres, 1, figsize=(8, 4 * n_genres), constrained_layout=True)\n",
        "\n",
        "for i, genre in enumerate(grouped_data):\n",
        "    ax = axs[i] if n_genres > 1 else axs\n",
        "    genre_data = token_counts_pd[token_counts_pd['tag'] == genre]['bert_token_count']\n",
        "    ax.hist(genre_data, bins='auto')\n",
        "    ax.set_title(f\"Token Counts for Genre {genre}\")\n",
        "    ax.set_xlabel(\"Token Count\")\n",
        "    ax.set_ylabel(\"Freq.\")\n",
        "\n",
        "plt.suptitle(\"BERT Token Counts of Lyrics by Genre\", fontsize=16)\n",
        "plt.show()"
      ],
      "metadata": {
        "colab": {
          "base_uri": "https://localhost:8080/",
          "height": 1000
        },
        "id": "W1e75X3FTUmk",
        "outputId": "4aaacff1-d658-4ab7-ae6d-4aa8b2a648ee"
      },
      "execution_count": null,
      "outputs": [
        {
          "output_type": "display_data",
          "data": {
            "text/plain": [
              "<Figure size 800x2000 with 5 Axes>"
            ],
            "image/png": "[encoded data removed]"
          },
          "metadata": {}
        }
      ]
    },
    {
      "cell_type": "code",
      "source": [
        "token_counts.group_by(\"tag\").agg([\n",
        "    pl.col(\"bert_token_count\").mean().alias(\"mean\"),\n",
        "    pl.col(\"bert_token_count\").median().alias(\"median\"),\n",
        "    pl.col(\"bert_token_count\").min().alias(\"min\"),\n",
        "    pl.col(\"bert_token_count\").max().alias(\"max\"),\n",
        "    pl.col(\"bert_token_count\").std().alias(\"std_dev\"),\n",
        "    pl.col(\"bert_token_count\").count().alias(\"count_songs\")\n",
        "])"
      ],
      "metadata": {
        "colab": {
          "base_uri": "https://localhost:8080/",
          "height": 268
        },
        "id": "NHTw_UCrWkWf",
        "outputId": "736ec4f4-4c68-4f99-96cc-dbfa01e9fe13"
      },
      "execution_count": null,
      "outputs": [
        {
          "output_type": "execute_result",
          "data": {
            "text/plain": [
              "shape: (5, 7)\n",
              "┌─────────┬────────────┬────────┬─────┬──────┬────────────┬─────────────┐\n",
              "│ tag     ┆ mean       ┆ median ┆ min ┆ max  ┆ std_dev    ┆ count_songs │\n",
              "│ ---     ┆ ---        ┆ ---    ┆ --- ┆ ---  ┆ ---        ┆ ---         │\n",
              "│ str     ┆ f64        ┆ f64    ┆ i64 ┆ i64  ┆ f64        ┆ u32         │\n",
              "╞═════════╪════════════╪════════╪═════╪══════╪════════════╪═════════════╡\n",
              "│ rock    ┆ 268.095238 ┆ 235.0  ┆ 38  ┆ 2264 ┆ 214.267761 ┆ 168         │\n",
              "│ pop     ┆ 293.717672 ┆ 252.5  ┆ 37  ┆ 1169 ┆ 169.529128 ┆ 464         │\n",
              "│ rb      ┆ 379.765957 ┆ 341.0  ┆ 71  ┆ 1047 ┆ 211.354659 ┆ 47          │\n",
              "│ country ┆ 264.763158 ┆ 245.5  ┆ 94  ┆ 588  ┆ 107.193796 ┆ 38          │\n",
              "│ rap     ┆ 588.943463 ┆ 544.0  ┆ 43  ┆ 4192 ┆ 367.220821 ┆ 283         │\n",
              "└─────────┴────────────┴────────┴─────┴──────┴────────────┴─────────────┘"
            ],
            "text/html": [
              "<div><style>\n",
              ".dataframe > thead > tr,\n",
              ".dataframe > tbody > tr {\n",
              "  text-align: right;\n",
              "  white-space: pre-wrap;\n",
              "}\n",
              "</style>\n",
              "<small>shape: (5, 7)</small><table border=\"1\" class=\"dataframe\"><thead><tr><th>tag</th><th>mean</th><th>median</th><th>min</th><th>max</th><th>std_dev</th><th>count_songs</th></tr><tr><td>str</td><td>f64</td><td>f64</td><td>i64</td><td>i64</td><td>f64</td><td>u32</td></tr></thead><tbody><tr><td>&quot;rock&quot;</td><td>268.095238</td><td>235.0</td><td>38</td><td>2264</td><td>214.267761</td><td>168</td></tr><tr><td>&quot;pop&quot;</td><td>293.717672</td><td>252.5</td><td>37</td><td>1169</td><td>169.529128</td><td>464</td></tr><tr><td>&quot;rb&quot;</td><td>379.765957</td><td>341.0</td><td>71</td><td>1047</td><td>211.354659</td><td>47</td></tr><tr><td>&quot;country&quot;</td><td>264.763158</td><td>245.5</td><td>94</td><td>588</td><td>107.193796</td><td>38</td></tr><tr><td>&quot;rap&quot;</td><td>588.943463</td><td>544.0</td><td>43</td><td>4192</td><td>367.220821</td><td>283</td></tr></tbody></table></div>"
            ]
          },
          "metadata": {},
          "execution_count": 34
        }
      ]
    },
    {
      "cell_type": "code",
      "source": [],
      "metadata": {
        "id": "Bz00qKi5Wtyx"
      },
      "execution_count": null,
      "outputs": []
    }
  ]
}